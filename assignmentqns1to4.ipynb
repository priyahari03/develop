{
 "cells": [
  {
   "cell_type": "markdown",
   "metadata": {},
   "source": [
    "<b><br>Python QNS : </br>\n",
    "    \n",
    "    1. Given a number, find the sum of its digits. Take the number as\n",
    "an input from the user.\n",
    "2. Given a number, check whether the given number is an\n",
    "Armstrong number or not. A positive integer is called an\n",
    "Armstrong number of order n if:\n",
    "abcd... = an\n",
    " + bn + cn\n",
    " + dn\n",
    " + ...\n",
    "Example: 153 = 1*1*1 + 5*5*5 + 3*3*3\n",
    "153 is an Armstrong number of order 3.\n",
    "Inputs from the user will be number and order n.\n",
    "3. Given a string, write a python function to check if it is\n",
    "palindrome or not. A string is said to be palindrome if the reverse\n",
    "of the string is the same as string. For example, “malayalam” is a\n",
    "palindrome, but “music” is not a palindrome.\n",
    "4. Given an array which may contain duplicates, print all elements\n",
    "and their frequencies.<b>"
   ]
  },
  {
   "cell_type": "markdown",
   "metadata": {},
   "source": [
    "<b>1. SumOfDigits<b>"
   ]
  },
  {
   "cell_type": "code",
   "execution_count": 11,
   "metadata": {},
   "outputs": [
    {
     "name": "stdout",
     "output_type": "stream",
     "text": [
      "Enter the number345\n",
      "12\n"
     ]
    }
   ],
   "source": [
    "num =int(input(\"Enter the number\"))\n",
    "sum=0\n",
    "while(num!=0):\n",
    "    m=int(num%10)\n",
    "    sum=sum+m\n",
    "    num=int(num/10)\n",
    "print(sum)\n",
    "    \n",
    "        \n",
    "    "
   ]
  },
  {
   "cell_type": "markdown",
   "metadata": {},
   "source": [
    "<b>2. AmstrongNumber<b>"
   ]
  },
  {
   "cell_type": "code",
   "execution_count": 24,
   "metadata": {},
   "outputs": [
    {
     "name": "stdout",
     "output_type": "stream",
     "text": [
      "Enter the number: 153\n",
      "Enter the order n: 3\n",
      "It is an Amstrong number\n"
     ]
    }
   ],
   "source": [
    "anum =int(input(\"Enter the number: \"))\n",
    "order=int(input(\"Enter the order n: \"))\n",
    "sum=0\n",
    "num=anum\n",
    "while(anum!=0):\n",
    "    m=int(anum%10)\n",
    "    sum=sum+int(pow(m,order))\n",
    "    anum=int(anum/10)\n",
    "if(sum==num):\n",
    "    print(\"It is an Amstrong number\")\n",
    "else:  \n",
    "    print(\"Not an Amstrong Number\")\n",
    "    "
   ]
  },
  {
   "cell_type": "markdown",
   "metadata": {},
   "source": [
    "<b> 3 .Palindrome <b>"
   ]
  },
  {
   "cell_type": "code",
   "execution_count": 25,
   "metadata": {},
   "outputs": [
    {
     "name": "stdout",
     "output_type": "stream",
     "text": [
      "Enter the string to check for palindrome: nitin\n",
      "Palindrome!!\n"
     ]
    }
   ],
   "source": [
    "str= input(\"Enter the string to check for palindrome: \")\n",
    "l=len(str)\n",
    "if(str==str[::-1]):\n",
    "      print(\"Palindrome!!\")\n",
    "else: \n",
    "      print(\"Not a Palindrome!!\")\n",
    "\n"
   ]
  },
  {
   "cell_type": "markdown",
   "metadata": {},
   "source": [
    "<b>4. Print Duplicate element in an Array <b>"
   ]
  },
  {
   "cell_type": "code",
   "execution_count": 22,
   "metadata": {},
   "outputs": [
    {
     "name": "stdout",
     "output_type": "stream",
     "text": [
      "[ 1  2  4  2  6  7  9  1  2  8 10]\n",
      "{1: 2, 2: 3, 4: 1, 6: 1, 7: 1, 9: 1, 8: 1, 10: 1}\n"
     ]
    }
   ],
   "source": [
    "import numpy as np\n",
    "my_arr=np.array([1,2,4,2,6,7,9,1,2,8,10])\n",
    "print(my_arr)\n",
    "freq={}\n",
    "\n",
    "for i in my_arr:\n",
    "    if i in freq:\n",
    "        freq[i]+=1\n",
    "    else:\n",
    "        freq[i]=1\n",
    "print(freq)   \n"
   ]
  }
 ],
 "metadata": {
  "kernelspec": {
   "display_name": "Python 3",
   "language": "python",
   "name": "python3"
  },
  "language_info": {
   "codemirror_mode": {
    "name": "ipython",
    "version": 3
   },
   "file_extension": ".py",
   "mimetype": "text/x-python",
   "name": "python",
   "nbconvert_exporter": "python",
   "pygments_lexer": "ipython3",
   "version": "3.7.6"
  }
 },
 "nbformat": 4,
 "nbformat_minor": 4
}
